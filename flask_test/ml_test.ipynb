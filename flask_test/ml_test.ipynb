{
 "cells": [
  {
   "cell_type": "code",
   "execution_count": 11,
   "source": [
    "import pytest\r\n",
    "from ml import predict"
   ],
   "outputs": [],
   "metadata": {}
  },
  {
   "cell_type": "code",
   "execution_count": 16,
   "source": [
    "print(f\"이미지 0 예측 결과 : {predict('sample-0.png')}\")\r\n",
    "print(f\"이미지 3 예측 결과 : {predict('sample-3.png')}\")\r\n",
    "print(f\"이미지 4 예측 결과 : {predict('sample-4.png')}\")\r\n",
    "print(f\"이미지 7 예측 결과 : {predict('sample-7.png')}\")\r\n",
    "print(f\"이미지 8 예측 결과 : {predict('sample-8.png')}\")      "
   ],
   "outputs": [
    {
     "output_type": "error",
     "ename": "SyntaxError",
     "evalue": "invalid syntax (<ipython-input-16-6ea12c9fe6cd>, line 1)",
     "traceback": [
      "\u001b[1;36m  File \u001b[1;32m\"<ipython-input-16-6ea12c9fe6cd>\"\u001b[1;36m, line \u001b[1;32m1\u001b[0m\n\u001b[1;33m    print(f\"이미지 0 예측 결과 : {predict(\"sample-0.png\")}\")\u001b[0m\n\u001b[1;37m                                         ^\u001b[0m\n\u001b[1;31mSyntaxError\u001b[0m\u001b[1;31m:\u001b[0m invalid syntax\n"
     ]
    }
   ],
   "metadata": {}
  },
  {
   "cell_type": "code",
   "execution_count": null,
   "source": [],
   "outputs": [],
   "metadata": {}
  }
 ],
 "metadata": {
  "orig_nbformat": 4,
  "language_info": {
   "name": "python",
   "version": "3.7.11",
   "mimetype": "text/x-python",
   "codemirror_mode": {
    "name": "ipython",
    "version": 3
   },
   "pygments_lexer": "ipython3",
   "nbconvert_exporter": "python",
   "file_extension": ".py"
  },
  "kernelspec": {
   "name": "python3",
   "display_name": "Python 3.7.11 64-bit ('flask_test': conda)"
  },
  "interpreter": {
   "hash": "bb4e528137efab97ec57b68434f49b342000e70cf3d2b8b989b88798ead0de1d"
  }
 },
 "nbformat": 4,
 "nbformat_minor": 2
}